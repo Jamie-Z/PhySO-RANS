{
 "cells": [
  {
   "cell_type": "markdown",
   "id": "1c819057-4781-4cfc-8d55-e3dcbc33687d",
   "metadata": {
    "pycharm": {
     "name": "#%% md\n"
    },
    "tags": []
   },
   "source": [
    "# PhySO-RANS"
   ]
  },
  {
   "cell_type": "markdown",
   "id": "e2390f38-ea65-4652-bfb7-0b29ed26a546",
   "metadata": {
    "pycharm": {
     "name": "#%% md\n"
    }
   },
   "source": [
    "## Packages import"
   ]
  },
  {
   "cell_type": "code",
   "execution_count": null,
   "id": "7e3ee9d9-c786-4583-aa32-2fbc65584009",
   "metadata": {
    "pycharm": {
     "name": "#%%\n"
    }
   },
   "outputs": [],
   "source": [
    "# External packages\n",
    "import os\n",
    "import torch\n",
    "import numpy as np\n",
    "\n",
    "# Internal code import\n",
    "import physo\n",
    "from physo.learn import monitoring\n",
    "from physo.task  import benchmark"
   ]
  },
  {
   "cell_type": "code",
   "execution_count": null,
   "id": "6b52eaea-6ca2-4d3e-a846-2eedcd932e56",
   "metadata": {
    "pycharm": {
     "name": "#%%\n"
    }
   },
   "outputs": [],
   "source": [
    "# Device\n",
    "DEVICE = 'cpu'\n",
    "if torch.cuda.is_available():\n",
    "    DEVICE = 'cuda'\n",
    "print(DEVICE)"
   ]
  },
  {
   "cell_type": "code",
   "execution_count": null,
   "id": "c6936aec",
   "metadata": {},
   "outputs": [],
   "source": [
    "# Seed\n",
    "seed = 42\n",
    "np.random.seed(seed)\n",
    "torch.manual_seed(seed)"
   ]
  },
  {
   "cell_type": "markdown",
   "id": "91946a7e-e7dd-446b-9de9-101c930e82ce",
   "metadata": {
    "pycharm": {
     "name": "#%% md\n"
    }
   },
   "source": [
    "## Test case"
   ]
  },
  {
   "cell_type": "markdown",
   "id": "8b86e756-bb8b-4e7c-b454-ff27ac42a633",
   "metadata": {},
   "source": [
    "#### Data points"
   ]
  },
  {
   "cell_type": "code",
   "execution_count": null,
   "metadata": {},
   "outputs": [],
   "source": [
    "DIM = 2\n",
    "\n",
    "Retau = 500. \n",
    "H = 1. \n",
    "Ub = 0.028\n",
    "nu = 5e-06\n",
    "Re = 5600\n",
    "rho = Re * nu / (H * Ub)"
   ]
  },
  {
   "cell_type": "code",
   "execution_count": null,
   "metadata": {},
   "outputs": [],
   "source": [
    "# Shape of the hill\n",
    "def profile(yy, a):\n",
    "    y = np.array(yy)\n",
    "    x = y * 28\n",
    "    ya = y\n",
    "\n",
    "    h = np.zeros(len(x))\n",
    "\n",
    "    for i in range(len(x)):\n",
    "        if (x[i]>=0) and (x[i]<54) :\n",
    "            ya[i] *= a\n",
    "        elif (x[i]>54) and (x[i]<=126) :\n",
    "            ya[i] -= (54/28.0*(1-a))\n",
    "        elif (x[i]>126) and (x[i]<=198) :\n",
    "            ya[i] -= (54/28.0*(1-a))\n",
    "        elif (x[i]>198) and (x[i]<=252) :\n",
    "            ya[i] -= (54/28.0*(1-a))\n",
    "            ya[i] -= (x[i]-198)*(1-a)/28.0\n",
    "    \n",
    "    for i in range(len(x)):\n",
    "        if x[i] > 126.0 :\n",
    "            x[i] = 252.0 - x[i]\n",
    "\n",
    "        if (x[i]>=0) and (x[i]<9) :\n",
    "            h[i] = np.minimum(28., 2.8e+01 + 0.0e+00*x[i] + \\\n",
    "                              6.775070969851e-03*x[i]**2 - 2.124527775800e-03*x[i]**3)\n",
    "        elif (x[i]>=9) and (x[i]<14) :\n",
    "            h[i] = 2.507355893131E+01 + 9.754803562315E-01*x[i] - \\\n",
    "                   1.016116352781E-01*x[i]**2 + 1.889794677828E-03*x[i]**3\n",
    "        elif (x[i]>=14) and (x[i]<20) :\n",
    "            h[i] = 2.579601052357E+01 + 8.206693007457E-01*x[i] - \\\n",
    "                   9.055370274339E-02*x[i]**2 + 1.626510569859E-03*x[i]**3\n",
    "        elif (x[i]>=20) and (x[i]<30) :\n",
    "            h[i] = 4.046435022819E+01 - 1.379581654948E+00*x[i] + \\\n",
    "                   1.945884504128E-02*x[i]**2 - 2.070318932190E-04*x[i]**3\n",
    "        elif (x[i]>=30) and (x[i]<40) :\n",
    "            h[i] = 1.792461334664E+01 + 8.743920332081E-01*x[i] - \\\n",
    "                   5.567361123058E-02*x[i]**2 + 6.277731764683E-04*x[i]**3\n",
    "        elif (x[i]>=40) and (x[i]<=54) :\n",
    "            h[i] = np.maximum(0., 5.639011190988E+01 - 2.010520359035E+00*x[i] + \\\n",
    "                              1.644919857549E-02*x[i]**2 + 2.674976141766E-05*x[i]**3)\n",
    "        elif (x[i]>54) and (x[i]<=126) :\n",
    "            h[i] = 0\n",
    "\n",
    "    hout = h/28.0\n",
    "    return ya, hout"
   ]
  },
  {
   "cell_type": "code",
   "execution_count": null,
   "metadata": {},
   "outputs": [],
   "source": [
    "# Parameters for the shape of periodic hill\n",
    "alpha = 0.8\n",
    "yy = np.arange(0, 9, 0.01)\n",
    "\n",
    "# Load hill shape\n",
    "x_p = np.genfromtxt(\"./dataset/coord.csv\", delimiter=',', skip_header=1)[:, 0]\n",
    "y_p = np.genfromtxt(\"./dataset/coord.csv\", delimiter=',', skip_header=1)[:, 1]\n",
    "\n",
    "\n",
    "def wall_distance(x, y, yy = np.arange(0, 9, 0.01), alpha = 1.):\n",
    "    [ya, hout] = profile(yy, alpha)\n",
    "    distance = np.zeros_like(x)\n",
    "    for i in range(len(x)):\n",
    "        distance[i] = np.min(np.sqrt((x[i]-ya)**2 + (y[i]-hout)**2))\n",
    "    return distance\n",
    "\n",
    "# Calculate the wall distance\n",
    "d = wall_distance(x_p, y_p, yy, alpha)"
   ]
  },
  {
   "cell_type": "code",
   "execution_count": null,
   "id": "06b4f66f-1699-4c7a-a22c-90304c8e7ae2",
   "metadata": {
    "pycharm": {
     "name": "#%%\n"
    }
   },
   "outputs": [],
   "source": [
    "# Index for four independent  Reynolds stress tensor\n",
    "index = [0, 1, 4, 8]\n",
    "\n",
    "DATA_LENGTH = len(x_p)\n",
    "\n",
    "# Load the mean strain rate and rotation rate data\n",
    "S = np.zeros((DATA_LENGTH, 3, 3))\n",
    "R = np.zeros((DATA_LENGTH, 3, 3))\n",
    "\n",
    "for i in range(3):\n",
    "    for j in range(3):\n",
    "        if i == j == 0:\n",
    "            S[:, i, j] = np.genfromtxt(\"./dataset/grad(U).csv\", delimiter=',', skip_header=1)[: , 0]\n",
    "            R[:, i, j] = 0\n",
    "        elif i == j == 1:\n",
    "            S[:, i, j] = np.genfromtxt(\"./dataset/grad(U).csv\", delimiter=',', skip_header=1)[: , 4]\n",
    "            R[:, i, j] = 0\n",
    "        elif i == j == 2:\n",
    "            S[:, i, j] = np.genfromtxt(\"./dataset/grad(U).csv\", delimiter=',', skip_header=1)[: , 8]\n",
    "            R[:, i, j] = 0\n",
    "        elif i == 0 and j == 1 or i == 1 and j == 0:\n",
    "            S[:, i, j] = 0.5 * (np.genfromtxt(\"./dataset/grad(U).csv\", delimiter=',', skip_header=1)[: , 1]\n",
    "                                + np.genfromtxt(\"./dataset/grad(U).csv\", delimiter=',', skip_header=1)[: , 3])\n",
    "            R[:, i, j] = 0.5 * (np.genfromtxt(\"./dataset/grad(U).csv\", delimiter=',', skip_header=1)[: , 1]\n",
    "                                - np.genfromtxt(\"./dataset/grad(U).csv\", delimiter=',', skip_header=1)[: , 3])\n",
    "        elif i == 0 and j == 2 or i == 2 and j == 0:\n",
    "            S[:, i, j] = 0.5 * (np.genfromtxt(\"./dataset/grad(U).csv\", delimiter=',', skip_header=1)[: , 2]\n",
    "                                + np.genfromtxt(\"./dataset/grad(U).csv\", delimiter=',', skip_header=1)[: , 6])\n",
    "            R[:, i, j] = 0.5 * (np.genfromtxt(\"./dataset/grad(U).csv\", delimiter=',', skip_header=1)[: , 2]\n",
    "                                - np.genfromtxt(\"./dataset/grad(U).csv\", delimiter=',', skip_header=1)[: , 6])\n",
    "        elif i == 1 and j == 2 or i == 2 and j == 1:\n",
    "            S[:, i, j] = 0.5 * (np.genfromtxt(\"./dataset/grad(U).csv\", delimiter=',', skip_header=1)[: , 5]\n",
    "                                + np.genfromtxt(\"./dataset/grad(U).csv\", delimiter=',', skip_header=1)[: , 7])\n",
    "            R[:, i, j] = 0.5 * (np.genfromtxt(\"./dataset/grad(U).csv\", delimiter=',', skip_header=1)[: , 5]\n",
    "                                - np.genfromtxt(\"./dataset/grad(U).csv\", delimiter=',', skip_header=1)[: , 7])\n",
    "                        \n",
    "\n",
    "# Load the mean flow data\n",
    "U = np.genfromtxt(\"./dataset/U.csv\", delimiter=',', skip_header=1)[: , :3]\n",
    "k = np.genfromtxt(\"./dataset/k.csv\", delimiter=',', skip_header=1)\n",
    "epsilon = np.genfromtxt(\"./dataset/epsilon.csv\", delimiter=',', skip_header=1)\n",
    "nut = np.genfromtxt(\"./dataset/nut.csv\", delimiter=',', skip_header=1)\n",
    "p_gradient = np.genfromtxt(\"./dataset/grad(p).csv\", delimiter=',', skip_header=1)[: , :3]\n",
    "k_gradient = np.genfromtxt(\"./dataset/grad(k).csv\", delimiter=',', skip_header=1)[: , :3]\n",
    "U_gradient = np.genfromtxt(\"./dataset/grad(U).csv\", delimiter=',', skip_header=1)[: , :9].reshape(-1, 3, 3)\n",
    "Q_criteria = np.genfromtxt(\"./dataset/Q.csv\", delimiter=',', skip_header=1)\n",
    "\n",
    "\n",
    "# Read the Reynolds stress tensor data from the DNS dataset\n",
    "RS = np.genfromtxt(\"./dataset/tauDNS.csv\", delimiter=',', skip_header=1).reshape(-1, 3, 3)\n",
    "\n",
    "\n",
    "# Calculate mean flow features\n",
    "q1 = Q_criteria\n",
    "q2 = k\n",
    "q3 = np.zeros(DATA_LENGTH)\n",
    "for i in range(DATA_LENGTH):\n",
    "    if np.sqrt(k[i])*d[i]/(50*nu) < 2:\n",
    "        q3[i] = np.sqrt(k[i])*d[i]/(50*nu)\n",
    "    else:\n",
    "        q3[i] = 2\n",
    "q4 = U[:, 0]*p_gradient[:, 0] + U[:, 1]*p_gradient[:, 1] + U[:, 2]*p_gradient[:, 2]\n",
    "q5 = k/epsilon\n",
    "q6 = np.sqrt(p_gradient[:, 0]*p_gradient[:, 0] + p_gradient[:, 1]*p_gradient[:, 1] + p_gradient[:, 2]*p_gradient[:, 2])\n",
    "UiUj = np.einsum('bi,bj->bij', U, U)\n",
    "q7 = np.einsum('bij,bij->b', UiUj, U_gradient)\n",
    "q7 = np.abs(q7)\n",
    "\n",
    "q8 = U[:, 0]*k_gradient[:, 0] + U[:, 1]*k_gradient[:, 1] + U[:, 2]*k_gradient[:, 2]\n",
    "\n",
    "\n",
    "# Stack mean flow features\n",
    "X = np.stack((q1, q2, q3, q4, q5, q6, q7, q8), axis=0)\n",
    "y = (RS - 2/3 * k.reshape(-1, 1, 1) * np.eye(3) + 2 * nut.reshape(-1, 1, 1) * S).reshape(-1, 9)[:, index]"
   ]
  },
  {
   "cell_type": "markdown",
   "id": "685c3242-6792-4e59-8a6b-1f472de172ff",
   "metadata": {},
   "source": [
    "#### Sending data to device"
   ]
  },
  {
   "cell_type": "code",
   "execution_count": null,
   "id": "ca6b2f73-80c3-4f55-9866-f0297b81087f",
   "metadata": {
    "pycharm": {
     "name": "#%%\n"
    }
   },
   "outputs": [],
   "source": [
    "# ------ Vectors ------\n",
    "# Stack of all input variables\n",
    "X = torch.tensor(X).to(DEVICE)\n",
    "# Output of symbolic function to guess\n",
    "y = torch.tensor(y).to(DEVICE)\n",
    "\n",
    "# ------ Constants ------\n",
    "Re = torch.tensor(np.array(Re)).to(DEVICE)\n",
    "nu = torch.tensor(np.array(nu)).to(DEVICE)\n",
    "rho = torch.tensor(np.array(rho)).to(DEVICE)"
   ]
  },
  {
   "cell_type": "markdown",
   "id": "058939ea-1550-4f41-87cf-a6d879d51102",
   "metadata": {
    "pycharm": {
     "name": "#%% md\n"
    }
   },
   "source": [
    "## Run config"
   ]
  },
  {
   "cell_type": "markdown",
   "id": "07990a3b-14c5-4c4a-b54a-908f7cb259d4",
   "metadata": {
    "pycharm": {
     "name": "#%% md\n"
    }
   },
   "source": [
    "### Library config"
   ]
  },
  {
   "cell_type": "code",
   "execution_count": null,
   "id": "f8666ce1-dfb1-4ee9-8695-2bcb76f26e7b",
   "metadata": {
    "pycharm": {
     "name": "#%%\n"
    }
   },
   "outputs": [],
   "source": [
    "args_make_tokens = {\n",
    "                # operations\n",
    "                \"op_names\"             : [\"add\", \"sub\", \"mul\", \"div\", \"n2\",],\n",
    "                \"use_protected_ops\"    : False,\n",
    "                # input variables\n",
    "                \"input_var_ids\"        : {\"q1\" : 0         , \"q2\": 1         , \"q3\": 2         , \"q4\": 3         , \"q5\": 4         , \"q6\": 5          , \"q7\": 6           , \"q8\": 7           , },\n",
    "                \"input_var_units\"      : {\"q1\" : [0, 0, -2], \"q2\": [0, 2, -2], \"q3\": [0, 0, 0] , \"q4\": [0, 2, -3], \"q5\": [0, 0, 1] , \"q6\": [0, 1, -2] , \"q7\": [0, 2, -3]  , \"q8\": [0, 2, -3]  , }, # [M L T]\n",
    "                \"input_var_complexity\" : {\"q1\" : 1.        , \"q2\": 1.        , \"q3\": 1.        , \"q4\": 1.        , \"q5\": 1.        , \"q6\": 1.         , \"q7\": 1.          , \"q8\": 1.          , },\n",
    "                # free constants\n",
    "                \"free_constants\"            : {\"c\"              , },\n",
    "                \"free_constants_init_val\"   : {\"c\" : 1.         , },\n",
    "                \"free_constants_units\"      : {\"c\" : [0, 0, 0]  , },\n",
    "                \"free_constants_complexity\" : {\"c\" : 1.         , },\n",
    "                    }\n",
    "\n",
    "library_config = {\"args_make_tokens\"  : args_make_tokens,\n",
    "                  \"superparent_units\" : [0, 2, -2],\n",
    "                  \"superparent_name\"  : \"y\",\n",
    "                }\n",
    "\n",
    "                "
   ]
  },
  {
   "cell_type": "markdown",
   "id": "e4711b53",
   "metadata": {
    "pycharm": {
     "name": "#%% md\n"
    }
   },
   "source": [
    "### Learning config"
   ]
  },
  {
   "cell_type": "code",
   "execution_count": null,
   "id": "68f51b4b",
   "metadata": {
    "collapsed": false,
    "jupyter": {
     "outputs_hidden": false
    },
    "pycharm": {
     "name": "#%%\n"
    }
   },
   "outputs": [],
   "source": [
    "reward_config = {\n",
    "                 \"reward_function\"     : physo.physym.reward.SquashedNRMSE, # PHYSICALITY\n",
    "                 \"zero_out_unphysical\" : True,\n",
    "                 \"zero_out_duplicates\" : False,\n",
    "                 \"keep_lowest_complexity_duplicate\" : False,\n",
    "                 \"parallel_mode\" : False,\n",
    "                 \"n_cpus\"        : 12,\n",
    "                }"
   ]
  },
  {
   "cell_type": "code",
   "execution_count": null,
   "id": "ff943989",
   "metadata": {
    "collapsed": false,
    "jupyter": {
     "outputs_hidden": false
    },
    "pycharm": {
     "name": "#%%\n"
    }
   },
   "outputs": [],
   "source": [
    "BATCH_SIZE = int(1e4)\n",
    "MAX_LENGTH = 15\n",
    "GET_OPTIMIZER = lambda model : torch.optim.Adam(\n",
    "                                    model.parameters(),                \n",
    "                                    lr=1e-4, #0.001, #0.0050, #0.0005, #1,  #lr=0.0025\n",
    "                                                )"
   ]
  },
  {
   "cell_type": "code",
   "execution_count": null,
   "id": "a8c12168",
   "metadata": {
    "collapsed": false,
    "jupyter": {
     "outputs_hidden": false
    },
    "pycharm": {
     "name": "#%%\n"
    }
   },
   "outputs": [],
   "source": [
    "learning_config = {\n",
    "    # Batch related\n",
    "    'batch_size'       : BATCH_SIZE,\n",
    "    'max_time_step'    : MAX_LENGTH,\n",
    "    'n_epochs'         : 100,\n",
    "    # Loss related\n",
    "    'gamma_decay'      : 0.7,\n",
    "    'entropy_weight'   : 0.005,\n",
    "    # Reward related\n",
    "    'risk_factor'      : 0.05,\n",
    "    'rewards_computer' : physo.physym.reward.make_RewardsComputer (**reward_config),\n",
    "    # Optimizer\n",
    "    'get_optimizer'    : GET_OPTIMIZER,\n",
    "    'observe_units'    : True,\n",
    "}"
   ]
  },
  {
   "cell_type": "markdown",
   "id": "b5991694",
   "metadata": {
    "pycharm": {
     "name": "#%% md\n"
    }
   },
   "source": [
    "### Free constant optimizer config"
   ]
  },
  {
   "cell_type": "code",
   "execution_count": null,
   "id": "61b59d31",
   "metadata": {
    "collapsed": false,
    "jupyter": {
     "outputs_hidden": false
    },
    "pycharm": {
     "name": "#%%\n"
    }
   },
   "outputs": [],
   "source": [
    "free_const_opti_args = {\n",
    "            'loss'   : \"MSE\",\n",
    "            'method' : 'LBFGS',\n",
    "            'method_args': {\n",
    "                        'n_steps' : 15,\n",
    "                        'tol'     : 1e-8,\n",
    "                        'lbfgs_func_args' : {\n",
    "                            'max_iter'       : 4,\n",
    "                            'line_search_fn' : \"strong_wolfe\",\n",
    "                                             },\n",
    "                            },\n",
    "        }"
   ]
  },
  {
   "cell_type": "markdown",
   "id": "cc624c08-92d7-473f-b24c-1e63ef50e340",
   "metadata": {
    "pycharm": {
     "name": "#%% md\n"
    }
   },
   "source": [
    "### Priors config"
   ]
  },
  {
   "cell_type": "code",
   "execution_count": null,
   "metadata": {},
   "outputs": [],
   "source": [
    "priors_config  = [\n",
    "                #(\"UniformArityPrior\", None),\n",
    "                # LENGTH RELATED\n",
    "                (\"HardLengthPrior\"  , {\"min_length\": 4, \"max_length\": MAX_LENGTH, }),\n",
    "                (\"SoftLengthPrior\"  , {\"length_loc\": 8, \"scale\": 5, }),\n",
    "                # RELATIONSHIPS RELATED\n",
    "                (\"NoUselessInversePrior\"  , None),\n",
    "                (\"PhysicalUnitsPrior\", {\"prob_eps\": np.finfo(np.float32).eps}), # PHYSICALITY\n",
    "                # (\"NestedFunctions\", {\"functions\":[\"exp\", ], \"max_nesting\" : 1}),\n",
    "                # (\"NestedFunctions\", {\"functions\":[\"log\",], \"max_nesting\" : 1}),\n",
    "                # (\"NestedTrigonometryPrior\", {\"max_nesting\" : 1}),\n",
    "                # (\"OccurrencesPrior\", {\"targets\" : [\"nu\",], \"max\" : [2,] }),\n",
    "                 ]"
   ]
  },
  {
   "cell_type": "markdown",
   "id": "85f08d15-7325-4841-aebe-016a4f2978a8",
   "metadata": {
    "pycharm": {
     "name": "#%% md\n"
    }
   },
   "source": [
    "### Cell config"
   ]
  },
  {
   "cell_type": "code",
   "execution_count": null,
   "id": "e433da57",
   "metadata": {
    "collapsed": false,
    "jupyter": {
     "outputs_hidden": false
    },
    "pycharm": {
     "name": "#%%\n"
    }
   },
   "outputs": [],
   "source": [
    "cell_config = {\n",
    "    \"hidden_size\" : 128,\n",
    "    \"n_layers\"    : 1,\n",
    "    \"is_lobotomized\" : False,\n",
    "}"
   ]
  },
  {
   "cell_type": "markdown",
   "id": "39e90708",
   "metadata": {
    "pycharm": {
     "name": "#%% md\n"
    }
   },
   "source": [
    "### Logger"
   ]
  },
  {
   "cell_type": "code",
   "execution_count": null,
   "id": "13405809",
   "metadata": {
    "collapsed": false,
    "jupyter": {
     "outputs_hidden": false
    },
    "pycharm": {
     "name": "#%%\n"
    }
   },
   "outputs": [],
   "source": [
    "run_logger = []\n",
    "run_visualiser = []\n",
    "\n",
    "for i in range(len(index)):\n",
    "    save_path_training_curves = 'RS_curves_' + str(index[i]) + '.png'\n",
    "    save_path_log             = 'RS_' + str(index[i]) + '.log'\n",
    "\n",
    "    run_logger.append(monitoring.RunLogger(save_path = save_path_log, \n",
    "                                      do_save = False,\n",
    "                                      ))\n",
    "\n",
    "    run_visualiser.append(monitoring.RunVisualiser (epoch_refresh_rate = 5,\n",
    "                                           save_path = save_path_training_curves,\n",
    "                                           do_show   = True,\n",
    "                                           do_prints = True,\n",
    "                                           do_save   = True, \n",
    "                                           ))"
   ]
  },
  {
   "cell_type": "markdown",
   "id": "400eb0d0",
   "metadata": {
    "pycharm": {
     "name": "#%% md\n"
    }
   },
   "source": [
    "### Run config"
   ]
  },
  {
   "cell_type": "code",
   "execution_count": null,
   "id": "2648c799",
   "metadata": {
    "collapsed": false,
    "jupyter": {
     "outputs_hidden": false
    },
    "pycharm": {
     "name": "#%%\n"
    }
   },
   "outputs": [],
   "source": [
    "run_config = []\n",
    "for i in range(len(index)):\n",
    "    run_config.append({\n",
    "        \"learning_config\"      : learning_config,\n",
    "        \"reward_config\"        : reward_config,\n",
    "        \"free_const_opti_args\" : free_const_opti_args,\n",
    "        \"library_config\"       : library_config,\n",
    "        \"priors_config\"        : priors_config,\n",
    "        \"cell_config\"          : cell_config,\n",
    "        \"run_logger\"           : run_logger[i],\n",
    "        \"run_visualiser\"       : run_visualiser[i],\n",
    "    })"
   ]
  },
  {
   "cell_type": "markdown",
   "id": "6499d575",
   "metadata": {
    "pycharm": {
     "name": "#%% md\n"
    }
   },
   "source": [
    "## Run"
   ]
  },
  {
   "cell_type": "code",
   "execution_count": null,
   "id": "264e4870",
   "metadata": {
    "collapsed": false,
    "jupyter": {
     "outputs_hidden": false
    },
    "pycharm": {
     "name": "#%%\n"
    },
    "scrolled": true,
    "tags": []
   },
   "outputs": [],
   "source": [
    "for i in range(len(index)):\n",
    "    benchmark.dummy_epoch(X, y[:, i], run_config[i]) # Dummy epoch for prior tuning\n",
    "    rewards, candidates = physo.fit (X, y[:, i], run_config[i],\n",
    "                                    stop_reward = 0.9999, \n",
    "                                    stop_after_n_epochs = 5)"
   ]
  }
 ],
 "metadata": {
  "kernelspec": {
   "display_name": "Python 3 (ipykernel)",
   "language": "python",
   "name": "python3"
  },
  "language_info": {
   "codemirror_mode": {
    "name": "ipython",
    "version": 3
   },
   "file_extension": ".py",
   "mimetype": "text/x-python",
   "name": "python",
   "nbconvert_exporter": "python",
   "pygments_lexer": "ipython3",
   "version": "3.8.15"
  }
 },
 "nbformat": 4,
 "nbformat_minor": 5
}
